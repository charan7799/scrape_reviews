{
 "cells": [
  {
   "cell_type": "code",
   "execution_count": 1,
   "metadata": {},
   "outputs": [
    {
     "data": {
      "text/plain": [
       "<Response [200]>"
      ]
     },
     "execution_count": 1,
     "metadata": {},
     "output_type": "execute_result"
    }
   ],
   "source": [
    "import requests \n",
    "# Use the homepage to get cookies. Then use it later to scrape data.\n",
    "# homepage = 'https://www.amazon.in/product-review/B08L8DV7BX'\n",
    "ASIN = 'B09G9BL5CP'\n",
    "stars = 'two_star'\n",
    "page = 1\n",
    "homepage = \"https://www.amazon.in/product-review/{}/ref=cm_cr_arp_d_viewopt_sr?filterByStar={}&pageNumber={}\".format(ASIN, stars, page)\n",
    "headers = {'User-Agent':'Mozilla/5.0 (Windows NT 6.1) AppleWebKit/537.36 (KHTML, like Gecko) Chrome/54.0.2840.99 Safari/537.36'}\n",
    "response = requests.get(homepage,headers = headers)\n",
    "# cookies = response.cookies\n",
    "\n",
    "# #set up the Session object, so as to preserve the cookies between requests.\n",
    "# session = requests.Session()\n",
    "# session.headers = headers\n",
    "# session.cookies = cookies\n",
    "\n",
    "# #now begin download the source code\n",
    "# url = \"https://www.amazon.in/Minimalist-Vitamin-Absorbing-Lightweight-Moisturizer/dp/B09Q3MWP2S/ref=sr_1_1_sspa?crid=2PYOV5M80UFGT&keywords=minimalist+moisturizer+for+oily+skin&qid=1663082522&sprefix=%2Caps%2C1038&sr=8-1-spons&psc=1&spLa=ZW5jcnlwdGVkUXVhbGlmaWVyPUEyVTBFUENPMzQzRExIJmVuY3J5cHRlZElkPUEwNjUxNjg0MVFVTjUwM1NKREszNyZlbmNyeXB0ZWRBZElkPUEwNTM0Mzc4MjE5QjZZVUE5NlZCMCZ3aWRnZXROYW1lPXNwX2F0ZiZhY3Rpb249Y2xpY2tSZWRpcmVjdCZkb05vdExvZ0NsaWNrPXRydWU=\"\n",
    "# response = session.get(url)\n",
    "response"
   ]
  },
  {
   "cell_type": "code",
   "execution_count": 2,
   "metadata": {},
   "outputs": [],
   "source": [
    "from bs4 import BeautifulSoup as bs"
   ]
  },
  {
   "cell_type": "code",
   "execution_count": 3,
   "metadata": {},
   "outputs": [],
   "source": [
    "scraper = bs(response.content, 'html.parser')\n",
    "# print(scraper.prettify())"
   ]
  },
  {
   "cell_type": "code",
   "execution_count": 4,
   "metadata": {},
   "outputs": [
    {
     "data": {
      "text/plain": [
       "['So Cheap About Apple Not Giving Charger!',\n",
       " 'Highly Overrated phone',\n",
       " 'Nothing much to say overall good product but I think you shouldn’t buy online✌️😗',\n",
       " 'Camera quality',\n",
       " 'Iphone is heating',\n",
       " 'Very poor battery life',\n",
       " 'You should have given voice recording',\n",
       " 'Heating issue and poor battery life',\n",
       " 'Got seal broken mobile all my excitement is gone. Very bad experience from amazon for the 1st time.',\n",
       " 'Mic is not working']"
      ]
     },
     "execution_count": 4,
     "metadata": {},
     "output_type": "execute_result"
    }
   ],
   "source": [
    "review_title = scraper.find_all('a', class_='review-title-content')\n",
    "reviews = []\n",
    "for i in range(len(review_title)):\n",
    "    reviews.append(review_title[i].get_text().replace('\\n',''))\n",
    "reviews"
   ]
  },
  {
   "cell_type": "code",
   "execution_count": null,
   "metadata": {},
   "outputs": [],
   "source": [
    "# review_rating = scraper.find_all('i', class_='review-rating')\n",
    "# ratings = []\n",
    "# for i in range(len(review_rating)):\n",
    "#     ratings.append(review_rating[i].get_text().replace('\\n',''))\n",
    "# ratings"
   ]
  },
  {
   "cell_type": "code",
   "execution_count": 5,
   "metadata": {},
   "outputs": [
    {
     "data": {
      "text/plain": [
       "[\"I paid 73,000 for a phone but they don't give a charger! Thats so cheap about apple. Apple told that they are not giving charger to cut down on waste. Good decision. If they think everyone has an iphone and compatible charger, then why they need to produce new phones in the first place? To cut down waste and save environment, they can stop producing phone as well, right? So all these corporate giants who talk about environment actually has a different intention. My 2 stars is not for the phone, but for their cheap tactics to cheat people.\",\n",
       " \"I switched to ios from Android and being my first experience, I didn't find anything exciting. After trying to settle down for two weeks , i had enuff and finally decided to sell off the phone.Apple doesn't even provide u small things like fonts or themes but then allows third party apps to do so.So basically apple wants you to sell your kidney first to get the phone and then sell other parts also to change font etcMy 11x has much better wifi connectivity than iphone 13.. camera is ok nothing to say 'wow' about.Overall an overrated phone and too pricey.. happy to switch back to Android.\",\n",
       " '',\n",
       " 'Camera quality kuch khas ni lagi',\n",
       " 'I had buy the iphone 1 month have passed but mobile is still heating no help from iphone care service and I am really frustrated with the experience with the iphone. If any help is there in online flatform then only buy other wise buy it offline.Bad experience.',\n",
       " 'The battery drains too quickly for a new phone. Hate it.',\n",
       " 'I like colour but here is big problem call recoding is not available',\n",
       " \"Price: 81kProblem: 1. Heating issue2. Poor battery lifeThat's all from my side now it's your choice.. 🙏\",\n",
       " 'while i receive the box seal is already broken but there is not damage. Delivery of seal broken mobile is very bad that’s why i am giving 2 rating. Tried to contact amazon but no use from the operator, this type of service is not excepted from the Amazon.',\n",
       " 'Hi there,My iPhone 13 has problem regarding mic and signal dropsI had iPhone xs before never had this issue, after using iPhone 13 I got so many complaints about my voice getting drop during callOk camera quality']"
      ]
     },
     "execution_count": 5,
     "metadata": {},
     "output_type": "execute_result"
    }
   ],
   "source": [
    "review_body = scraper.find_all('span', {\"data-hook\":\"review-body\"})\n",
    "reviews_long = []\n",
    "for i in range(len(review_body)):\n",
    "    # if len(review_body[i].get_text().replace('\\n',''))>0:\n",
    "    reviews_long.append(review_body[i].get_text().replace('\\n',''))\n",
    "reviews_long\n",
    "# review_body"
   ]
  },
  {
   "cell_type": "code",
   "execution_count": 6,
   "metadata": {},
   "outputs": [
    {
     "data": {
      "text/plain": [
       "10"
      ]
     },
     "execution_count": 6,
     "metadata": {},
     "output_type": "execute_result"
    }
   ],
   "source": [
    "len(reviews_long)"
   ]
  },
  {
   "cell_type": "code",
   "execution_count": null,
   "metadata": {},
   "outputs": [],
   "source": []
  }
 ],
 "metadata": {
  "kernelspec": {
   "display_name": "Python 3.7.13 ('amazon_scrape')",
   "language": "python",
   "name": "python3"
  },
  "language_info": {
   "codemirror_mode": {
    "name": "ipython",
    "version": 3
   },
   "file_extension": ".py",
   "mimetype": "text/x-python",
   "name": "python",
   "nbconvert_exporter": "python",
   "pygments_lexer": "ipython3",
   "version": "3.7.13"
  },
  "orig_nbformat": 4,
  "vscode": {
   "interpreter": {
    "hash": "f767d66f0cef42798d58f8aa2f7b6eac38261065ead13d8bc6fac4934ae42388"
   }
  }
 },
 "nbformat": 4,
 "nbformat_minor": 2
}
