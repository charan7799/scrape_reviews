{
 "cells": [
  {
   "cell_type": "code",
   "execution_count": 3,
   "metadata": {},
   "outputs": [
    {
     "data": {
      "text/plain": [
       "<Response [200]>"
      ]
     },
     "execution_count": 3,
     "metadata": {},
     "output_type": "execute_result"
    }
   ],
   "source": [
    "import requests\n",
    "ASIN = 'B09G9BL5CP'\n",
    "stars = 'all_stars'\n",
    "page = 1\n",
    "homepage = \"https://www.amazon.in/product-review/{}/ref=cm_cr_arp_d_viewopt_sr?filterByStar={}&pageNumber={}\".format(ASIN, stars, page)\n",
    "headers = {'User-Agent':'Mozilla/5.0 (Windows NT 6.1) AppleWebKit/537.36 (KHTML, like Gecko) Chrome/54.0.2840.99 Safari/537.36'}\n",
    "response = requests.get(homepage,headers = headers)\n",
    "response"
   ]
  },
  {
   "cell_type": "code",
   "execution_count": 6,
   "metadata": {},
   "outputs": [],
   "source": [
    "from bs4 import BeautifulSoup as bs"
   ]
  },
  {
   "cell_type": "code",
   "execution_count": 7,
   "metadata": {},
   "outputs": [],
   "source": [
    "scraper = bs(response.content, 'html.parser')"
   ]
  },
  {
   "cell_type": "code",
   "execution_count": 8,
   "metadata": {},
   "outputs": [
    {
     "data": {
      "text/plain": [
       "['Review after 1 week of usage',\n",
       " 'Truly worth the money spent! Even if you go broke!',\n",
       " 'Consistent, dependable & need more customization options',\n",
       " 'Iphone 13 Dream',\n",
       " 'The iPhone 13 is the new benchmark for flagship phones...!',\n",
       " 'Good battery',\n",
       " 'Wow.. Great to use',\n",
       " 'Awesome',\n",
       " 'Battery',\n",
       " 'Excellent!']"
      ]
     },
     "execution_count": 8,
     "metadata": {},
     "output_type": "execute_result"
    }
   ],
   "source": [
    "review_title = scraper.find_all('a', class_='review-title-content')\n",
    "reviews = []\n",
    "for i in range(len(review_title)):\n",
    "    reviews.append(review_title[i].get_text().replace('\\n',''))\n",
    "reviews"
   ]
  },
  {
   "cell_type": "code",
   "execution_count": 9,
   "metadata": {},
   "outputs": [
    {
     "data": {
      "text/plain": [
       "[\"Got it for 65K on Amazon prime day. So as a lifelong android user I have switched to IOS. So will be dividing this into the pros and negs:Product red 128GBPros:1) Received genuine product from Amazon( was quite sceptic about it though)2) Built quality excellent3) Camera quality excellent. True to life color reproduction, Indoor conditions amazing, night photos are good, facial tones are very good, day clicks are amazing. In short it's an amazing exp. Selfie cam also produces very good quality images. And also no shift in dynamic range while shifting B/W wide and ultra wide cams.4) Display:- Its a really great display, not 120 hz, but the experience is no less than a 120 hz, coz of apple's great software optimization, buttery smooth, no jitters on the screen, won't feel like a 60 hz panel. Now the notch, yes it will be bothering a little bit but its got its own functions, face unlock and stuff (works great in all environmental conditions)after a little while you get adjusted and it got its own magic functions like when when the phone rings and you go close to it, it detects your presence and lowers the vol level.5) Performance: Most powerful processor in the world.6) Battery:- With light usage will easily go for 2 days and with heavy 1 day. Remember to follow a charging pattern and it will give a solid battery exp.7) Speakers: Very loud with a small thumpCons:1) To keep photos and stuff you need to buy storage. 5 GB by default but that's nothing. Download google photos as an alternate sol. if you don't wanna buy storage.2) File management system sucks, android is much better.3) It has dolby atmos but for that you need a subscription to Apple music.4) Does not have a telephoto cam, which I think is a must at this price point.5) Somehow I am not getting 4g+ on my airtel, don't know why but in my android phone always used to get that.6) No USB C7) Siri is dumb AF8) Apple maps are not good, so download Google maps.9) Google keypad is much better than apple's.10) Notification panel and those small things like typing in the notification panel and other things that you can do in android is much much better than apple.11) As of now no haptic feedback while typing maybe coming on IOS 16Note:- Apple ecosystem still exploring that part but whenever you click any pic it automatically gets updated and I can see it in my Macbook also.Overall I would say if you are planning to buy a phone for responsiveness and does the everyday stuff without any hanging problems and stuff then buy it, and also if you are planning to keep it for a long time, then I think its a good investment for the future. Its got Great resale value.Hope this helps in making your decision easier.Update after 2 weeks of usage:All the above points remains the same, but I did check out the ecosystem and the experience has been amazing.1) I can receive and make phone calls (cellular calls) from my macbook, and the call quality is also good.So basically you can keep your phone in some other section of the house and you are working with your macbook somewhere else and if some call comes you can receive that on your macbook. PS:- your phone and macbook should be connected to a similar network, i.e wi-fi.2) Airplay- Just from the lock screen itself i can play any video and also listen to music from my phone. So basically you can watch youtube amazon prime videos(app not in the macbook but present on phone) and other stuff and also listen to music, and the switch of devices is also seamless. So someone in my house can use my macbook to watch movies on amazon prime(playing from my phone) and I can browse linkedin or FB from my iphone.\",\n",
       " 'My honest review after going broke buying this depreciating object.I have been using android phones since the last 10 years and finally decided to switch to iPhone! I used to roast iPhone for its prices, lack of features and also things like power adapter not given in box etc, but my last android phone (iqoo 7 legend) had lot of software related issues and battery issues after updating it to android 12, tired of bugs and software glitches in android, I finally decided to buy a iPhone and switch from android to iOS And Boy Was I right!I never even held an iPhone In my life before because of its price, but now I made a great choice even if I had to spend all my savings on it.iPhone 13 is so smooth that even my IQOO 7 Legend with 120hz feels slower than it even if iPhone has only 60hz. And I can’t believe what I’m seeing, all the games/apps are so much smoother and optimised than on android.I was very sceptical about the charging speed of an iPhone Because in Iqoo I had 66w fast charger where as for iPhone I had to buy 20w separate fast charger for 1800rs, but charging speed isn’t disappointing.Display quality is truly flagship level and I’m quite a fan of the small 6.1 display believe it or not, being able to reach the top of display with just one hand is very helpful, Build quality is great.I would recommend NOT to waste extra 40k for buying 13 pro. Because I don’t think having a extra camera telephoto lens is worth spending 40k.You can see in the 3rd image attached the quality of wide angle camera pic shot on my iPhone 13, wide angle camera struggles in low light, but main camera is really good, captures true colours. Front camera is really good too, truly flagship.Speakers are Great.Battery life is better than my previous devices,iOS is very optimised in terms of battery life, easy 8hrs sot on normal usage.NOTE : While playing BGMI you loose around 2% battery every 6minutes at HD + Extreme Graphics. Which is also good. Pro Max Would Be far better in terms of battery.For the software? Yes I feel like there are few downsides, even if the software is very smooth and has very less bugs, it has two annoying things : any game gets paused when you open control centre just to check the battery etc, Lock Screen is annoying and also having to reach the top left corner just to see notifications is also annoying, clearing all notifications is also very annoying.But other than that a perfect 10/10 purchase. I was very disappointed at myself when I paid for the iPhone but when I received it I was truly happy that I bought it.Truly worth it.',\n",
       " 'Likes -1. A good display2. Great dual speaker sound quality3. It’s fast. I am using for more than a month and it never hanged.4. Updated to IOS 16 and unlike Android phones it is bug free or has very less bugs5. Long term software & security support (a very few Android phone manufacturers gives 5 years OS support with less bugs)6. Consistent camera. I would say the camera is not so hi fi but takes consistently good photos7. Apps are well optimized. Even google apps like YouTube, Maps, Gmail etc works better in IOS rather than their own proprietary OS8. Widgets in IOS 15 and 16. Android has widgets for decades now but IOS took the user experience to a whole new level.9. The new boxy design (introduced with iPhone 12) is cool and looks good.10. Network & call quality is good.11. Haptic feedback is awesome.Dislikes (Some dislikes are due to myself being an Android user for decades)1. The ugly notch. Though they made a dynamic island with iPhone 14 but lets accept the truth its still ugly compared to the hole punch2. Battery life & charging speed.3. Lack of customization. I can’t place the icons wherever i feel like on the screen.4. Lack of fingerprint scanner. Face id is good but fingerprint scanner is more practical, specially when you pay contactless5. Being an Android user I am used to with swipe from the right edge of the screen to go back. In iPhone this is not working & you need to reach out to actual back buttons of the app.6. Settings app is messy as all installed app would show up on the main page. I would say Android settings app is more sophisticated.7. Lastly the price should’ve been less. With all discounts & all it comes ~60k INR and its costly.Overall I am satisfied switching to iPhone 13 from Android (used OnePlus 6t for 3 years). Last time I switched to iPhone was with iPhone 5S and I couldn’t stay for 6 months and switched to Android again. But this time IOS is better in terms of consistency & user experience.',\n",
       " 'Hey All,Its been a dream for middle class guy to own a iphone. Waited for 5-6years to buy one for myself and it was worth waiting.Moving from Android to IOS was a big shift. Like all others had struggled 1st day but eventually you will learn everything.Phone is just awesome that to i got it for 55k with all exchange and bank offers. So i would say its worth every single penny.However, screen quality and brightness could have been better.',\n",
       " \"We're pretty confident when we say that the iPhone 13 is the best iPhone for most people. It may look like Apple has only changed the position of one of the phone's back cameras since last year's model, but trust us when we say that there are more substantial upgrades than that. With a new display, larger battery, and better camera hardware and software, the iPhone 13 is the new benchmark for flagship phones.Once again, Apple's made the iPhone 13 far more powerful than its Android competitors thanks to its 5G-ready A15 Bionic chip. If the raw performance doesn't interest you, photographers can play with the new Photographic Style filters in the camera app, while videographers will be excited by the new Cinematic mode focus-racking ability.The regular iPhone 13 has some flaws. The charging is still relatively slow compared to some Android phones. And I don't like that only the iPhone 13 Pro models get a 120Hz display and telephoto zoom. But based on my in-depth iPhone 13 review, this new iPhone is the best phone for the money.The overall display quality continues to be stellar. When watching the trailer for The Matrix Resurrections, I was mesmerized by the neon code encircling Neo as he walked down the street, and in another scene, I could make out individual hairs on Neo’s beard as he stared up into the sun.DISPLAY1. Smaller notch makes the display a bit more immersive2. Slightly different button placement3. Pink and blue are standout colors4. New Green color launched March 2022CAMERA1. Bright and colorful images beat Samsung2. Ultra-wide camera delivers more scenes and improved Night mode3. Photographic styles give you creative controlVIDEO1. Cinematic mode automatically changes focus on subjects while adding bokeh2. Superior Dolby Vision HDR video qualityPERFORMANCE and A15 Bionic1.A15 Bionic is the fastest chip once again2. Machine learning performance notably betterBATTERY LIFE1.10 hours and 33 minutes of battery life, which is 2 hours better than the iPhone 12Software1.SharePlay lets you watch videos and listen to music with friends2. Focus cuts down on distractionsVERDICT :The iPhone 13 improves on what was already the best iPhone for most people by introducing a bunch of welcome enhancements. I especially like the longer battery life, as the iPhone 12’s endurance was underwhelming even for a 5G phone. I wouldn’t recommend that iPhone 12 owners upgrade to the new iPhone, but the iPhone 13 is worth it if you own an iPhone 11 or older device.I don’t think many people will care about the smaller notch. What truly stands out on the iPhone 13 is the camera. The low-light performance is even better now, and computational photography features like Cinematic mode and Photographic styles flex the A15 Bionic’s muscles in ways that go way beyond benchmarks.I’m also glad Apple doubled the starting storage at 128GB, as that move was overdue and puts the new iPhone on par with Android flagships. I’d like to see Apple offering faster charging next time around — be it via USB-C or MagSafe — as well as a 120Hz display.The bottom line is that the iPhone 13 is a fantastic phone and raises the bar for what you think a camera phone can do.\",\n",
       " 'Switched from Samsung M51 battery backup was a concern but luckily Iphone 13 lasts the dayOverall good phone but if you are switching from android the first few days are ugly as we have a lot of options in Android',\n",
       " \"Good things1. Camera as always amazing ( cinematic vedio is wow).2. Battery performance has improved tremendously3. No lags4. Size is good , good for watching movies.5. Look is above average.Not good1. Charger not available ( whatever logic company gives , it should be available, one have a buy ) , people buying iPhone can buy the charger additionally but that doesn't mean they will be excluded 😂\",\n",
       " 'Nice product',\n",
       " 'Good phone but battery backup is bad compared to other phones',\n",
       " 'Switched from Android to IOS for the first time and I don’t regret it one bit. The UI is buttery smooth, apps never glitch and the camera is top notch. People who love to customise their phones may not like it since iOS doesn’t provide that flexibility, but for me its not a problem.If I had to nitpick, the only thing I don’t like is the cinematic mode. Its a good attempt, but it’s nowhere near perfect, which is understandable since its a new feature.Go for this phone, you’ll love it!']"
      ]
     },
     "execution_count": 9,
     "metadata": {},
     "output_type": "execute_result"
    }
   ],
   "source": [
    "review_body = scraper.find_all('span', {\"data-hook\":\"review-body\"})\n",
    "reviews_long = []\n",
    "for i in range(len(review_body)):\n",
    "    # if len(review_body[i].get_text().replace('\\n',''))>0:\n",
    "    reviews_long.append(review_body[i].get_text().replace('\\n',''))\n",
    "reviews_long"
   ]
  },
  {
   "cell_type": "code",
   "execution_count": null,
   "metadata": {},
   "outputs": [],
   "source": []
  }
 ],
 "metadata": {
  "kernelspec": {
   "display_name": "Python 3.9.0 ('tf_gpu')",
   "language": "python",
   "name": "python3"
  },
  "language_info": {
   "codemirror_mode": {
    "name": "ipython",
    "version": 3
   },
   "file_extension": ".py",
   "mimetype": "text/x-python",
   "name": "python",
   "nbconvert_exporter": "python",
   "pygments_lexer": "ipython3",
   "version": "3.9.0"
  },
  "orig_nbformat": 4,
  "vscode": {
   "interpreter": {
    "hash": "2f367210a7a16a836085d7c821836e5e4706ee7387b7d93d1b29c2d27e4e3241"
   }
  }
 },
 "nbformat": 4,
 "nbformat_minor": 2
}
